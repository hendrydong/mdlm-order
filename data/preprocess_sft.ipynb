{
 "cells": [
  {
   "cell_type": "code",
   "execution_count": null,
   "id": "0ed00cb7",
   "metadata": {},
   "outputs": [],
   "source": [
    "import json\n",
    "# assume you have downloaded this data\n",
    "with open(\"./demon_openr1math.json\", 'r') as f:\n",
    "    data = json.load(f)\n",
    "len(data)"
   ]
  },
  {
   "cell_type": "code",
   "execution_count": null,
   "id": "74093514",
   "metadata": {},
   "outputs": [],
   "source": [
    "from jinja2 import Template\n",
    "\n",
    "# different models use different prompts and eos token:\n",
    "\n",
    "# for dream and diffucoder:\n",
    "#system_prompts = '''<|im_start|>system\\nYou are a helpful assistant.<|im_end|>\\n<|im_start|>user\\nYou need to put your final answer in \\\\boxed{}. This is the problem:\\n{{problem}}<|im_end|>\\n<|im_start|>assistant\\n'''\n",
    "#eos_token = \"<|im_end|>\"\n",
    "\n",
    "# llada and mmada:\n",
    "#system_prompts = \"\"\"<|startoftext|><|start_header_id|>user<|end_header_id|>You need to put your final answer in \\\\boxed{}. This is the problem:\\n{{problem}}<|eot_id|><|startoftext|><|start_header_id|>assistant<|end_header_id|>\\n\"\"\"\n",
    "#eos_token = \"<|eot_id|>\"\n",
    "\n",
    "# trado and sdar:\n",
    "# non-cot prompt, we used this as demon example to compare sft methods\n",
    "system_prompts = '''<|im_start|>user\\nYou need to put your final answer in \\\\boxed{}. This is the problem:\\n{{problem}}<|im_end|>\\n<|im_start|>assistant\\n'''\n",
    "# cot prompt, trado and sdar are not cot-default, needs cot prompt to activate reasoning ability.\n",
    "#system_prompts = '''<|im_start|>user\\n{{problem}}\\nPlease reason step by step, and put your final answer within \\\\boxed{}.<|im_end|>\\n<|im_start|>assistant\\n'''\n",
    "eos_token = \"<|im_end|>\"\n",
    "\n",
    "\n",
    "def get_prompt(data_i):\n",
    "    return Template(system_prompts).render(problem = data_i[\"prompt\"])\n",
    "processed_data = []\n",
    "for i in range(len(data)):\n",
    "    processed_data.append(\n",
    "        {\n",
    "            \"prompt\": get_prompt(data[i]),\n",
    "            \"response\": data[i][\"response\"] + eos_token\n",
    "        }\n",
    "    )\n",
    "len(processed_data)"
   ]
  },
  {
   "cell_type": "code",
   "execution_count": null,
   "id": "5d9e5e85",
   "metadata": {},
   "outputs": [],
   "source": [
    "#with open(\"./sft_openr1math_dream.json\", \"w\", encoding=\"utf-8\") as f:\n",
    "#with open(\"./sft_openr1math_llada.json\", \"w\", encoding=\"utf-8\") as f:\n",
    "#with open(\"./sft_openr1math_trado.json\", \"w\", encoding=\"utf-8\") as f:\n",
    "with open(\"./sft_openr1math_sdar.json\", \"w\", encoding=\"utf-8\") as f:\n",
    "    json.dump(processed_data, f, indent=2, ensure_ascii=False)"
   ]
  }
 ],
 "metadata": {
  "kernelspec": {
   "display_name": "dllm-rl",
   "language": "python",
   "name": "python3"
  },
  "language_info": {
   "codemirror_mode": {
    "name": "ipython",
    "version": 3
   },
   "file_extension": ".py",
   "mimetype": "text/x-python",
   "name": "python",
   "nbconvert_exporter": "python",
   "pygments_lexer": "ipython3",
   "version": "3.10.18"
  }
 },
 "nbformat": 4,
 "nbformat_minor": 5
}
